{
  "nbformat": 4,
  "nbformat_minor": 0,
  "metadata": {
    "colab": {
      "provenance": []
    },
    "kernelspec": {
      "name": "python3",
      "display_name": "Python 3"
    },
    "language_info": {
      "name": "python"
    }
  },
  "cells": [
    {
      "cell_type": "code",
      "execution_count": null,
      "metadata": {
        "id": "W0RUuwsuyhYj"
      },
      "outputs": [],
      "source": [
        "!pip install madml\n",
        "!udocker --allow-root install"
      ]
    },
    {
      "cell_type": "code",
      "source": [
        "from madml.hosting.docker import predict\n",
        "import numpy as np\n",
        "\n",
        "container_name = 'replace'\n",
        "np.savetxt('X.csv', X, delimiter=\",\")\n",
        "y = predict(X, container_name)\n",
        "print(y)"
      ],
      "metadata": {
        "id": "UJlIUuHLyjfz"
      },
      "execution_count": null,
      "outputs": []
    }
  ]
}