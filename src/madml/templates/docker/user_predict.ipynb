{
 "cells": [
  {
   "cell_type": "code",
   "execution_count": null,
   "metadata": {
    "id": "W0RUuwsuyhYj"
   },
   "outputs": [],
   "source": [
    "!pip install madml\n",
    "!udocker --allow-root install"
   ]
  },
  {
   "cell_type": "code",
   "execution_count": null,
   "metadata": {
    "id": "UJlIUuHLyjfz"
   },
   "outputs": [],
   "source": [
    "from madml.hosting.docker import dockerhub_model\n",
    "import numpy as np\n",
    "\n",
    "container_name = 'replace'\n",
    "model = dockerhub_model(container_name)\n",
    "\n",
    "X = np.loadtxt('X.csv', delimiter=',')\n",
    "y = model.predict(X)\n",
    "\n",
    "print(y)"
   ]
  }
 ],
 "metadata": {
  "colab": {
   "provenance": []
  },
  "kernelspec": {
   "display_name": "Python 3 (ipykernel)",
   "language": "python",
   "name": "python3"
  },
  "language_info": {
   "codemirror_mode": {
    "name": "ipython",
    "version": 3
   },
   "file_extension": ".py",
   "mimetype": "text/x-python",
   "name": "python",
   "nbconvert_exporter": "python",
   "pygments_lexer": "ipython3",
   "version": "3.10.12"
  }
 },
 "nbformat": 4,
 "nbformat_minor": 4
}
