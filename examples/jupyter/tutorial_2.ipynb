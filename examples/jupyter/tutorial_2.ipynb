{
 "cells": [
  {
   "cell_type": "markdown",
   "metadata": {},
   "source": [
    "### Setup\n",
    "\n",
    "Install dependencies"
   ]
  },
  {
   "cell_type": "code",
   "execution_count": null,
   "metadata": {
    "id": "W0RUuwsuyhYj"
   },
   "outputs": [],
   "source": [
    "!pip install madml\n",
    "!udocker --allow-root install"
   ]
  },
  {
   "cell_type": "markdown",
   "metadata": {},
   "source": [
    "### Use Docker Hub hosted model\n",
    "\n",
    "A previous developer has to upload a compatible container for this to work. See materials_application_domain_machine_learning/examples/auto_push for an example on how to upload containers."
   ]
  },
  {
   "cell_type": "code",
   "execution_count": null,
   "metadata": {
    "id": "UJlIUuHLyjfz"
   },
   "outputs": [],
   "source": [
    "from madml.hosting.docker import dockerhub_model\n",
    "from madml import datasets\n",
    "\n",
    "container_name = 'leschultz/test:latest'\n",
    "model = dockerhub_model(container_name)\n",
    "\n",
    "X = datasets.load('strength')['data']\n",
    "y = model.predict(X)\n",
    "print(y)"
   ]
  }
 ],
 "metadata": {
  "colab": {
   "provenance": []
  },
  "kernelspec": {
   "display_name": "Python 3 (ipykernel)",
   "language": "python",
   "name": "python3"
  },
  "language_info": {
   "codemirror_mode": {
    "name": "ipython",
    "version": 3
   },
   "file_extension": ".py",
   "mimetype": "text/x-python",
   "name": "python",
   "nbconvert_exporter": "python",
   "pygments_lexer": "ipython3",
   "version": "3.10.12"
  }
 },
 "nbformat": 4,
 "nbformat_minor": 4
}
